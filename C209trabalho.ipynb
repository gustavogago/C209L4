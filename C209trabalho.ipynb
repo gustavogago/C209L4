{
 "cells": [
  {
   "cell_type": "markdown",
   "id": "eee0c1fb",
   "metadata": {},
   "source": [
    "Importar a biblioteca"
   ]
  },
  {
   "cell_type": "code",
   "execution_count": 2,
   "id": "498018e5-ea10-446b-bd08-0147b01b77af",
   "metadata": {},
   "outputs": [],
   "source": [
    "import moviepy"
   ]
  },
  {
   "cell_type": "markdown",
   "id": "9752add7",
   "metadata": {},
   "source": [
    "Definir os caminhos do vídeo original e final"
   ]
  },
  {
   "cell_type": "code",
   "execution_count": null,
   "id": "03a97307",
   "metadata": {},
   "outputs": [],
   "source": [
    "video_input_path = \"Videoanterior_C209\"\n",
    "video_output_path = \"video_final.mp4\"\n",
    "clip = VideoFileClip(video_input_path)"
   ]
  },
  {
   "cell_type": "code",
   "execution_count": null,
   "metadata": {},
   "outputs": [],
   "source": [
    "video_input_path = \"Videoanterior_C209\"\n",
    "video_output_path = \"video_final.mp4\"\n",
    "clip = VideoFileClip(video_input_path)"
   ]
  },
  {
   "cell_type": "markdown",
   "id": "5f755da2",
   "metadata": {},
   "source": [
    "Inverter a imagem no eixo a cada 20 segundos"
   ]
  },
  {
   "cell_type": "code",
   "execution_count": null,
   "id": "b07451b0",
   "metadata": {},
   "outputs": [],
   "source": [
    "def flip_video_every_20s(clip):\n",
    "    duration = clip.duration\n",
    "    clips = []\n",
    "    for start in range(0, int(duration), 20):\n",
    "        subclip = clip.subclip(start, min(start + 20, duration))\n",
    "        if (start // 20) % 2 == 0:\n",
    "            subclip = subclip.fx(vfx.mirror_x)\n",
    "        clips.append(subclip)\n",
    "    return concatenate_videoclips(clips)\n",
    "\n",
    "flipped_clip = flip_video_every_20s(clip)"
   ]
  },
  {
   "cell_type": "markdown",
   "id": "a5f88c1f",
   "metadata": {},
   "source": [
    "Diminuir o som gradativamente"
   ]
  },
  {
   "cell_type": "code",
   "execution_count": null,
   "id": "45376aca",
   "metadata": {},
   "outputs": [],
   "source": [
    "def fade_out_audio(clip):\n",
    "    audio = clip.audio\n",
    "    faded_audio = audio.audio_fadeout(30) \n",
    "    return clip.set_audio(faded_audio)\n",
    "\n",
    "audio_faded_clip = fade_out_audio(flipped_clip)"
   ]
  },
  {
   "cell_type": "markdown",
   "id": "13f5bb88",
   "metadata": {},
   "source": [
    "Cortar os segundos 60 a 80 do vídeo"
   ]
  },
  {
   "cell_type": "code",
   "execution_count": null,
   "id": "49e1a533",
   "metadata": {},
   "outputs": [],
   "source": [
    "clip_part_1 = audio_faded_clip.subclip(0, 60)\n",
    "clip_cut = audio_faded_clip.subclip(60, 80)\n",
    "clip_part_2 = audio_faded_clip.subclip(80)"
   ]
  },
  {
   "cell_type": "markdown",
   "id": "87c53c46",
   "metadata": {},
   "source": [
    "Final"
   ]
  },
  {
   "cell_type": "code",
   "execution_count": null,
   "id": "e1a9658f",
   "metadata": {},
   "outputs": [],
   "source": [
    "final_clip = concatenate_videoclips([clip_part_1, clip_part_2, clip_cut])\n",
    "\n",
    "final_clip.write_videofile(video_output_path, codec=\"libx264\", audio_codec=\"aac\")"
   ]
  }
 ],
 "metadata": {
  "kernelspec": {
   "display_name": "Python 3",
   "language": "python",
   "name": "python3"
  },
  "language_info": {
   "codemirror_mode": {
    "name": "ipython",
    "version": 3
   },
   "file_extension": ".py",
   "mimetype": "text/x-python",
   "name": "python",
   "nbconvert_exporter": "python",
   "pygments_lexer": "ipython3",
   "version": "3.13.0"
  }
 },
 "nbformat": 4,
 "nbformat_minor": 5
}
