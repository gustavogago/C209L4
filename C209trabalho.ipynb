{
 "cells": [
  {
   "cell_type": "markdown",
   "id": "eee0c1fb",
   "metadata": {},
   "source": [
    "Importar a biblioteca"
   ]
  },
  {
   "cell_type": "code",
   "execution_count": null,
   "id": "498018e5-ea10-446b-bd08-0147b01b77af",
   "metadata": {},
   "outputs": [],
   "source": [
    "from moviepy.editor import VideoFileClip, concatenate_videoclips, vfx, AudioFileClip\n",
    "import numpy as np"
   ]
  },
  {
   "cell_type": "markdown",
   "id": "9752add7",
   "metadata": {},
   "source": [
    "Definir o caminho do vídeo original"
   ]
  },
  {
   "cell_type": "code",
   "execution_count": null,
   "id": "03a97307",
   "metadata": {},
   "outputs": [],
   "source": [
    "video = VideoFileClip(\"input_video.mp4\")"
   ]
  },
  {
   "cell_type": "markdown",
   "id": "5f755da2",
   "metadata": {},
   "source": [
    "Inverter a imagem no eixo a cada 20 segundos"
   ]
  },
  {
   "cell_type": "code",
   "execution_count": null,
   "id": "b07451b0",
   "metadata": {},
   "outputs": [],
   "source": [
    "video_clips = []\n",
    "\n",
    "\n",
    "segment_duration = 20  \n",
    "volume_intervals = [0, 30, 60, 90, 120, video_duration - 10]\n",
    "volume_levels = [1.0, 0.5, 0.25, 0.125, 0.0625, 0.0]\n",
    "\n",
    "num_segments = int(np.ceil(video_duration / segment_duration))\n",
    "\n",
    "for i in range(num_segments):\n",
    "    start_time = i * segment_duration\n",
    "    end_time = min((i + 1) * segment_duration, video_duration)\n",
    "    clip = video.subclip(start_time, end_time)\n",
    "    \n",
    "    if i % 2 == 0:\n",
    "        clip = clip.fx(vfx.mirror_x)\n",
    "    \n",
    "    video_clips.append(clip)\n",
    "\n",
    "processed_video = concatenate_videoclips(video_clips)"
   ]
  },
  {
   "cell_type": "markdown",
   "id": "a5f88c1f",
   "metadata": {},
   "source": [
    "Diminuir o som gradativamente"
   ]
  },
  {
   "cell_type": "code",
   "execution_count": null,
   "id": "45376aca",
   "metadata": {},
   "outputs": [],
   "source": [
    "audio = video.audio\n",
    "\n",
    "def adjust_volume(get_frame, t):\n",
    "    frame = get_frame(t)\n",
    "    t = np.array(t) \n",
    "    volume = np.zeros_like(t, dtype=float)\n",
    "\n",
    "    for i in range(len(volume_intervals) - 1):\n",
    "        mask = (volume_intervals[i] <= t) & (t < volume_intervals[i + 1])\n",
    "        volume[mask] = volume_levels[i]\n",
    "\n",
    "    mask = t >= volume_intervals[-1]\n",
    "    volume[mask] = volume_levels[-1]\n",
    "\n",
    "    if frame.ndim == 1:\n",
    "        return volume * frame\n",
    "    else:\n",
    "        return (volume[:, np.newaxis]) * frame\n",
    "\n",
    "\n",
    "adjusted_audio = audio.fl(adjust_volume)\n",
    "\n",
    "processed_video = processed_video.set_audio(adjusted_audio)"
   ]
  },
  {
   "cell_type": "markdown",
   "id": "13f5bb88",
   "metadata": {},
   "source": [
    "Cortar os segundos 60 a 80 do vídeo"
   ]
  },
  {
   "cell_type": "code",
   "execution_count": null,
   "id": "49e1a533",
   "metadata": {},
   "outputs": [],
   "source": [
    "clip_before_60 = processed_video.subclip(0, 60)\n",
    "\n",
    "clip_after_80 = processed_video.subclip(80, processed_video.duration)\n",
    "\n",
    "clip_60_to_80 = processed_video.subclip(60, 80)\n",
    "\n",
    "final_video = concatenate_videoclips([clip_before_60, clip_after_80, clip_60_to_80])"
   ]
  },
  {
   "cell_type": "markdown",
   "id": "87c53c46",
   "metadata": {},
   "source": [
    "Final"
   ]
  },
  {
   "cell_type": "code",
   "execution_count": null,
   "id": "e1a9658f",
   "metadata": {},
   "outputs": [],
   "source": [
    "final_video.write_videofile(\"output_video.mp4\", codec=\"libx264\", audio_codec=\"aac\")"
   ]
  }
 ],
 "metadata": {
  "kernelspec": {
   "display_name": "Python 3",
   "language": "python",
   "name": "python3"
  },
  "language_info": {
   "codemirror_mode": {
    "name": "ipython",
    "version": 3
   },
   "file_extension": ".py",
   "mimetype": "text/x-python",
   "name": "python",
   "nbconvert_exporter": "python",
   "pygments_lexer": "ipython3",
   "version": "3.13.0"
  }
 },
 "nbformat": 4,
 "nbformat_minor": 5
}
